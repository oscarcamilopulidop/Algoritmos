{
 "cells": [
  {
   "cell_type": "code",
   "execution_count": 6,
   "metadata": {},
   "outputs": [
    {
     "name": "stdout",
     "output_type": "stream",
     "text": [
      "el promedio es :  5.0\n",
      "[0, 1, 1, 2, 3, 2, 1, 2, 2, 3, 4, 3, 3, 4, 2, 3, 4, 5, 5, 4, 6, 5, 4, 3, 1, 2, 2, 3, 4, 3, 2, 3, 3, 4, 5, 4, 4, 5, 3, 4, 5, 6, 6, 5, 7, 6, 5, 4, 3, 4, 4, 5, 6, 5, 2, 3, 3, 4, 5, 4, 4, 5, 5, 6, 7, 6, 6, 5, 7, 8, 7, 6, 5, 6, 4, 5, 6, 7, 6, 7, 5, 6, 7, 8, 4, 5, 3, 4, 5, 6, 8, 9, 7, 6, 7, 8, 7, 6, 8, 7, 6, 5, 8, 7, 9, 8, 7, 6, 10, 9, 9, 8, 7, 8, 6, 5, 7, 6, 5, 4]\n"
     ]
    },
    {
     "data": {
      "image/png": "[encoded data removed]",
      "text/plain": [
       "<Figure size 432x288 with 1 Axes>"
      ]
     },
     "metadata": {},
     "output_type": "display_data"
    }
   ],
   "source": [
    "import numpy as np\n",
    "import matplotlib.pyplot as plt\n",
    "npermut = 0\n",
    "total = 0\n",
    "cases = np.zeros(1001)\n",
    "p=[]\n",
    "def isortSteps(a):\n",
    "    #print (a)\n",
    "    v = []\n",
    "    for i in range(len(a)):\n",
    "        v.append(a[i])\n",
    "        \n",
    "    steps = 0\n",
    "    for i in range(1,len(v)):\n",
    "        x = v[i]\n",
    "        j = i-1\n",
    "        while (j > -1) and (v[j] > x):\n",
    "            v[j+1] = v[j]\n",
    "            j = j -1\n",
    "            steps=steps+1\n",
    "        #if j!=-1:\n",
    "            #steps=steps+1                \n",
    "        v[j+1] = x\n",
    "    #print (steps)\n",
    "    return steps\n",
    "\n",
    "def swap(v,i,j):\n",
    "    t = v[i]\n",
    "    v[i] = v[j]\n",
    "    v[j] = t\n",
    "\n",
    "def perm(v,i,n):\n",
    "    global npermut\n",
    "    global total\n",
    "    global cases\n",
    "    \n",
    "    j=0\n",
    "    k=0\n",
    "    l=0\n",
    "    if i == n:\n",
    "        npermut = npermut + 1\n",
    "        k = isortSteps(v)\n",
    "        p.append(k)\n",
    "        total = total + k\n",
    "        cases[k] = cases[k] + 1\n",
    "    else:\n",
    "        for j in range (i,n):\n",
    "            swap (v, i, j)\n",
    "            perm (v, i+1, n)\n",
    "            swap (v, i, j)\n",
    "            \n",
    "def fact(n):\n",
    "    f = n\n",
    "    ax = 1\n",
    "    while f > 0:\n",
    "        ax = ax*f\n",
    "        f = f-1\n",
    "    return ax            \n",
    "\n",
    "n = 5\n",
    "v = []\n",
    "for i in range(n):\n",
    "    v.append(i+1)\n",
    "\n",
    "factorial = fact(n)    \n",
    "perm(v,0,len(v))\n",
    "\n",
    "promedio = 0\n",
    "suma = 0    \n",
    "for h in range (0,factorial):\n",
    "    suma = suma + p[h]\n",
    "    \n",
    "promedio = (suma)/factorial\n",
    "print (\"el promedio es : \" , promedio)\n",
    "print (p)\n",
    "plt.hist(p,factorial,(min(p),max(p)))\n",
    "plt.xlabel('Steps')\n",
    "plt.ylabel('Frequency')\n",
    "plt.legend(['Comparations on Insertion Sort']);"
   ]
  },
  {
   "cell_type": "code",
   "execution_count": 3,
   "metadata": {},
   "outputs": [
    {
     "name": "stdout",
     "output_type": "stream",
     "text": [
      "el promedio es :  6.0\n",
      "[9, 8, 8, 7, 7, 6, 8, 7, 7, 6, 6, 5, 7, 6, 6, 5, 5, 4, 6, 5, 5, 4, 4, 3]\n"
     ]
    },
    {
     "data": {
      "image/png": "[encoded data removed]",
      "text/plain": [
       "<Figure size 432x288 with 1 Axes>"
      ]
     },
     "metadata": {},
     "output_type": "display_data"
    }
   ],
   "source": [
    "import matplotlib.pyplot as plt\n",
    "from itertools import permutations\n",
    "import random\n",
    "class Counter:\n",
    "    def __init__(self):\n",
    "        self.steps = 0\n",
    "\n",
    "    def reset(self):\n",
    "        self.steps = 0\n",
    "\n",
    "    def count(self):\n",
    "        self.steps += 1\n",
    "\n",
    "    def print_steps(self):\n",
    "        return self.steps\n",
    "        \n",
    "def insertionsort( A, rock ):   \n",
    "    for j in range( 1, len(A) ):\n",
    "        key = A[ j ]\n",
    "        i = j - 1 \n",
    "        while (i > -1) and key < A[i]: \n",
    "            A[ i + 1 ] = A[i]\n",
    "            rock.count()\n",
    "            i = i-1\n",
    "        if j!=-1:\n",
    "            rock.count()\n",
    "        A[ i + 1 ] = key\n",
    "    return A\n",
    "\n",
    "def fact(n):\n",
    "    f = n\n",
    "    ax = 1\n",
    "    while f > 0:\n",
    "        ax = ax*f\n",
    "        f = f-1\n",
    "    return ax\n",
    "    \n",
    "n = 8\n",
    "s = random.sample( range(100), n )\n",
    "s = list ( s )\n",
    "x = list ( permutations(s, n) )\n",
    "p=[]\n",
    "\n",
    "factorial = fact(n)\n",
    "\n",
    "for i in range (0,factorial):\n",
    "    permutation = list ( x [i] )\n",
    "    rock = Counter ()\n",
    "    insertionsort( permutation,rock )\n",
    "    p.append( rock.print_steps() )\n",
    "    \n",
    "promedio = 0\n",
    "suma = 0    \n",
    "for h in range (0,factorial):\n",
    "    suma = suma + p[h]\n",
    "    \n",
    "promedio = (suma)/factorial\n",
    "print (\"el promedio es : \" , promedio)\n",
    "print (p)\n",
    "plt.hist(p,factorial,(min(p),max(p)))\n",
    "plt.xlabel('Steps')\n",
    "plt.ylabel('Frequency')\n",
    "plt.legend(['Comparations on Insertion Sort']);"
   ]
  },
  {
   "cell_type": "code",
   "execution_count": null,
   "metadata": {},
   "outputs": [],
   "source": []
  }
 ],
 "metadata": {
  "kernelspec": {
   "display_name": "Python 3",
   "language": "python",
   "name": "python3"
  },
  "language_info": {
   "codemirror_mode": {
    "name": "ipython",
    "version": 3
   },
   "file_extension": ".py",
   "mimetype": "text/x-python",
   "name": "python",
   "nbconvert_exporter": "python",
   "pygments_lexer": "ipython3",
   "version": "3.6.5"
  }
 },
 "nbformat": 4,
 "nbformat_minor": 2
}
