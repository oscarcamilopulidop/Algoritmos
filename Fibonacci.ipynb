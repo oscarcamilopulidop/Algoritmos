{
 "cells": [
  {
   "cell_type": "code",
   "execution_count": 124,
   "metadata": {},
   "outputs": [],
   "source": [
    "import time\n",
    "from matplotlib import pyplot\n",
    "import numpy as np\n",
    "import timeit\n",
    "from functools import partial\n",
    "import random"
   ]
  },
  {
   "cell_type": "code",
   "execution_count": 125,
   "metadata": {},
   "outputs": [],
   "source": [
    "def fibonacci(n):\n",
    "    start = time.time()\n",
    "    a,b,i = 1,2,4 \n",
    "    for x in range(i,n+1):\n",
    "        b+=a\n",
    "        a= b-a\n",
    "    else:\n",
    "        end = time.time()    \n",
    "        #if n == 0:\n",
    "          # print(0) \n",
    "       # elif n==1 or n==2 :\n",
    "          # print(1)\n",
    "       # else:\n",
    "          # print(b)  \n",
    "    \n",
    "    #print('El tiempo en segundo de ejecución fue ',end-start, ' segundos' )"
   ]
  },
  {
   "cell_type": "code",
   "execution_count": 126,
   "metadata": {},
   "outputs": [],
   "source": [
    "def plotTC(fn, nMin, nMax, nInc, nTests):\n",
    "    x = []\n",
    "    y = []\n",
    "\n",
    "    for i in range(nMin, nMax, nInc):\n",
    "        N = i\n",
    "        testNTimer = timeit.Timer(partial(fn, N))\n",
    "        t = testNTimer.timeit(number=nTests)\n",
    "        x.append(i)\n",
    "        y.append(t)\n",
    "    p1 = pyplot.plot(x, y, 'o')"
   ]
  },
  {
   "cell_type": "code",
   "execution_count": 127,
   "metadata": {},
   "outputs": [
    {
     "name": "stdout",
     "output_type": "stream",
     "text": [
      "Analizando tiempo de ejecución de Fibonacci..\n"
     ]
    },
    {
     "data": {
      "image/png": "[encoded data removed]",
      "text/plain": [
       "<Figure size 432x288 with 1 Axes>"
      ]
     },
     "metadata": {},
     "output_type": "display_data"
    }
   ],
   "source": [
    "    print('Analizando tiempo de ejecución de Fibonacci..')\n",
    "    plotTC(fibonacci, 1, 10000, 1, 10)\n",
    "    pyplot.show()"
   ]
  },
  {
   "cell_type": "code",
   "execution_count": null,
   "metadata": {},
   "outputs": [],
   "source": []
  }
 ],
 "metadata": {
  "kernelspec": {
   "display_name": "Python 3",
   "language": "python",
   "name": "python3"
  },
  "language_info": {
   "codemirror_mode": {
    "name": "ipython",
    "version": 3
   },
   "file_extension": ".py",
   "mimetype": "text/x-python",
   "name": "python",
   "nbconvert_exporter": "python",
   "pygments_lexer": "ipython3",
   "version": "3.6.5"
  }
 },
 "nbformat": 4,
 "nbformat_minor": 2
}
