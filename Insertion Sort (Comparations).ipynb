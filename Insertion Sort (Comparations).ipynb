{
 "cells": [
  {
   "cell_type": "code",
   "execution_count": 2,
   "metadata": {},
   "outputs": [
    {
     "name": "stdout",
     "output_type": "stream",
     "text": [
      "el promedio es :  9.0\n",
      "[6, 7, 5, 4, 6, 5, 7, 8, 8, 9, 9, 10, 6, 5, 7, 8, 6, 7, 7, 6, 8, 9, 7, 8, 7, 8, 6, 5, 7, 6, 8, 9, 9, 10, 10, 11, 7, 6, 8, 9, 7, 8, 8, 7, 9, 10, 8, 9, 8, 9, 9, 10, 10, 11, 9, 10, 10, 11, 11, 12, 10, 11, 11, 12, 12, 13, 11, 12, 12, 13, 13, 14, 7, 6, 8, 9, 7, 8, 8, 7, 9, 10, 8, 9, 9, 10, 10, 11, 11, 12, 8, 9, 9, 10, 10, 11, 8, 7, 9, 10, 8, 9, 9, 8, 10, 11, 9, 10, 10, 11, 11, 12, 12, 13, 9, 10, 10, 11, 11, 12]\n"
     ]
    },
    {
     "data": {
      "image/png": "[encoded data removed]",
      "text/plain": [
       "<Figure size 432x288 with 1 Axes>"
      ]
     },
     "metadata": {},
     "output_type": "display_data"
    }
   ],
   "source": [
    "import matplotlib.pyplot as plt\n",
    "from itertools import permutations\n",
    "import random\n",
    "class Counter:\n",
    "    def __init__(self):\n",
    "        self.steps = 0\n",
    "\n",
    "    def reset(self):\n",
    "        self.steps = 0\n",
    "\n",
    "    def count(self):\n",
    "        self.steps += 1\n",
    "\n",
    "    def print_steps(self):\n",
    "        return self.steps\n",
    "        \n",
    "def insertionsort( A, rock ):   \n",
    "    for j in range( 1, len(A) ):\n",
    "        key = A[ j ]\n",
    "        i = j - 1 \n",
    "        while (i > -1) and key < A[i]: \n",
    "            A[ i + 1 ] = A[i]\n",
    "            rock.count()\n",
    "            i = i-1\n",
    "        if j!=-1:\n",
    "            rock.count()\n",
    "        A[ i + 1 ] = key\n",
    "    return A\n",
    "\n",
    "def fact(n):\n",
    "    f = n\n",
    "    ax = 1\n",
    "    while f > 0:\n",
    "        ax = ax*f\n",
    "        f = f-1\n",
    "    return ax\n",
    "    \n",
    "n = 5\n",
    "s = random.sample( range(100), n )\n",
    "s = list ( s )\n",
    "x = list ( permutations(s, n) )\n",
    "p=[]\n",
    "\n",
    "factorial = fact(n)\n",
    "\n",
    "for i in range (0,factorial):\n",
    "    permutation = list ( x [i] )\n",
    "    rock = Counter ()\n",
    "    insertionsort( permutation,rock )\n",
    "    p.append( rock.print_steps() )\n",
    "    \n",
    "promedio = 0\n",
    "suma = 0    \n",
    "for h in range (0,factorial):\n",
    "    suma = suma + p[h]\n",
    "    \n",
    "promedio = (suma)/factorial\n",
    "print (\"el promedio es : \" , promedio)\n",
    "print (p)\n",
    "plt.hist(p,factorial,(min(p),max(p)))\n",
    "plt.xlabel('Steps')\n",
    "plt.ylabel('Frequency')\n",
    "plt.legend(['Swaps on Insertion Sort']);"
   ]
  },
  {
   "cell_type": "code",
   "execution_count": null,
   "metadata": {},
   "outputs": [],
   "source": []
  }
 ],
 "metadata": {
  "kernelspec": {
   "display_name": "Python 3",
   "language": "python",
   "name": "python3"
  },
  "language_info": {
   "codemirror_mode": {
    "name": "ipython",
    "version": 3
   },
   "file_extension": ".py",
   "mimetype": "text/x-python",
   "name": "python",
   "nbconvert_exporter": "python",
   "pygments_lexer": "ipython3",
   "version": "3.6.5"
  }
 },
 "nbformat": 4,
 "nbformat_minor": 2
}
