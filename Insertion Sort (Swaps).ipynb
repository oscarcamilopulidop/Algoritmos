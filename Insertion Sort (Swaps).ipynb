{
 "cells": [
  {
   "cell_type": "code",
   "execution_count": 2,
   "metadata": {},
   "outputs": [
    {
     "name": "stdout",
     "output_type": "stream",
     "text": [
      "el promedio es :  5.0\n",
      "[3, 4, 4, 5, 5, 6, 2, 3, 1, 2, 4, 3, 3, 4, 2, 3, 5, 4, 6, 7, 5, 4, 6, 5, 4, 5, 5, 6, 6, 7, 3, 4, 4, 5, 5, 6, 6, 7, 5, 6, 8, 7, 7, 8, 6, 7, 9, 8, 1, 2, 0, 1, 3, 2, 2, 3, 3, 4, 4, 5, 1, 2, 2, 3, 3, 4, 4, 3, 5, 6, 4, 5, 4, 5, 3, 4, 6, 5, 5, 6, 4, 5, 7, 6, 2, 3, 3, 4, 4, 5, 7, 6, 8, 7, 5, 6, 7, 8, 6, 5, 7, 6, 8, 9, 7, 8, 10, 9, 5, 4, 6, 7, 5, 6, 8, 7, 9, 8, 6, 7]\n"
     ]
    },
    {
     "data": {
      "image/png": "[encoded data removed]",
      "text/plain": [
       "<Figure size 432x288 with 1 Axes>"
      ]
     },
     "metadata": {},
     "output_type": "display_data"
    }
   ],
   "source": [
    "import matplotlib.pyplot as plt\n",
    "from itertools import permutations\n",
    "import random\n",
    "class Counter:\n",
    "    def __init__(self):\n",
    "        self.steps = 0\n",
    "\n",
    "    def reset(self):\n",
    "        self.steps = 0\n",
    "\n",
    "    def count(self):\n",
    "        self.steps += 1\n",
    "\n",
    "    def print_steps(self):\n",
    "        return self.steps\n",
    "        \n",
    "def insertionsort( A, swap ):   \n",
    "    for j in range( 1, len(A) ):\n",
    "        key = A[ j ]\n",
    "        i = j - 1 \n",
    "        while (i > -1) and key < A[i]: \n",
    "            A[ i + 1 ] = A[i]\n",
    "            swap.count()\n",
    "            i = i-1\n",
    "        A[ i + 1 ] = key\n",
    "    return A\n",
    "\n",
    "def fact(n):\n",
    "    f = n\n",
    "    ax = 1\n",
    "    while f > 0:\n",
    "        ax = ax*f\n",
    "        f = f-1\n",
    "    return ax\n",
    "    \n",
    "n = 5\n",
    "s = random.sample( range(100), n )\n",
    "s = list ( s )\n",
    "x = list ( permutations(s, n) )\n",
    "p=[]\n",
    "\n",
    "factorial = fact(n)\n",
    "\n",
    "for i in range (0,factorial):\n",
    "    permutation = list ( x [i] )\n",
    "    swap = Counter ()\n",
    "    insertionsort( permutation,swap )\n",
    "    p.append( swap.print_steps() )\n",
    "    \n",
    "promedio = 0\n",
    "suma = 0    \n",
    "for h in range (0,factorial):\n",
    "    suma = suma + p[h]\n",
    "    \n",
    "promedio = (suma)/factorial\n",
    "print (\"el promedio es : \" , promedio)\n",
    "print (p)\n",
    "plt.hist(p,factorial,(min(p),max(p)))\n",
    "plt.xlabel('Steps')\n",
    "plt.ylabel('Frequency')\n",
    "plt.legend(['Swaps on Insertion Sort']);"
   ]
  },
  {
   "cell_type": "code",
   "execution_count": null,
   "metadata": {},
   "outputs": [],
   "source": []
  }
 ],
 "metadata": {
  "kernelspec": {
   "display_name": "Python 3",
   "language": "python",
   "name": "python3"
  },
  "language_info": {
   "codemirror_mode": {
    "name": "ipython",
    "version": 3
   },
   "file_extension": ".py",
   "mimetype": "text/x-python",
   "name": "python",
   "nbconvert_exporter": "python",
   "pygments_lexer": "ipython3",
   "version": "3.6.5"
  }
 },
 "nbformat": 4,
 "nbformat_minor": 2
}
