{
 "cells": [
  {
   "cell_type": "code",
   "execution_count": 17,
   "metadata": {},
   "outputs": [
    {
     "name": "stdout",
     "output_type": "stream",
     "text": [
      "el promedio es :  25.0\n",
      "[22, 19, 25, 22, 16, 19, 25, 22, 28, 31, 25, 28, 28, 25, 31, 34, 28, 31, 19, 22, 22, 25, 25, 28]\n"
     ]
    },
    {
     "data": {
      "image/png": "[encoded data removed]",
      "text/plain": [
       "<Figure size 432x288 with 1 Axes>"
      ]
     },
     "metadata": {},
     "output_type": "display_data"
    }
   ],
   "source": [
    "from itertools import permutations\n",
    "import matplotlib.pyplot as plt\n",
    "import random\n",
    "class Counter:\n",
    "    def __init__(self):\n",
    "        self.steps = 0\n",
    "        \n",
    "    def reset(self):\n",
    "        self.steps = 0\n",
    "\n",
    "    def count(self):\n",
    "        self.steps += 1\n",
    "\n",
    "    def print_steps(self):\n",
    "        return self.steps\n",
    "        \n",
    "def insertion_sort(A, acct):\n",
    "    j = 1; acct.count()\n",
    "    while j < len(A):\n",
    "        key = A[j]; acct.count()\n",
    "        i = j - 1; acct.count()\n",
    "        acct.count()\n",
    "        while (i >= 0) and (A[i] > key):\n",
    "            acct.count()\n",
    "            A[i + 1] = A[i]; acct.count()\n",
    "            i = i -1; acct.count()\n",
    "        A[i + 1] = key; acct.count()\n",
    "        j = j + 1; acct.count()\n",
    "\n",
    "def fact(n):\n",
    "    f = n\n",
    "    ax = 1\n",
    "    while f > 0:\n",
    "        ax = ax*f\n",
    "        f = f-1\n",
    "    return ax        \n",
    "        \n",
    "n= 4\n",
    "s= random.sample(range(100), n)\n",
    "s = list (s)\n",
    "x= list (permutations(s, n))\n",
    "p=[]\n",
    "\n",
    "factorial = fact(n)\n",
    "\n",
    "for i in range (0,factorial):\n",
    "    permutation = list (x[i])\n",
    "    step = Counter ()\n",
    "    insertion_sort(permutation,step)\n",
    "    p.append(step.print_steps())\n",
    "    \n",
    "promedio = 0\n",
    "suma = 0    \n",
    "for h in range (0,len(p)):\n",
    "    suma = suma + p[h]\n",
    "    \n",
    "promedio = (suma)/factorial\n",
    "print (\"el promedio es : \",  prom)\n",
    "print (p)\n",
    "plt.hist(p,factorial,(min(p),max(p)))\n",
    "plt.xlabel('Steps')\n",
    "plt.ylabel('Frequency')\n",
    "plt.legend(['Total Steps on Insertion Sort']);"
   ]
  },
  {
   "cell_type": "code",
   "execution_count": null,
   "metadata": {},
   "outputs": [],
   "source": []
  }
 ],
 "metadata": {
  "kernelspec": {
   "display_name": "Python 3",
   "language": "python",
   "name": "python3"
  },
  "language_info": {
   "codemirror_mode": {
    "name": "ipython",
    "version": 3
   },
   "file_extension": ".py",
   "mimetype": "text/x-python",
   "name": "python",
   "nbconvert_exporter": "python",
   "pygments_lexer": "ipython3",
   "version": "3.6.5"
  }
 },
 "nbformat": 4,
 "nbformat_minor": 2
}
